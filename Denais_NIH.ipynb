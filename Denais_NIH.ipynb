{
 "cells": [
  {
   "cell_type": "markdown",
   "id": "7ebbd8d4",
   "metadata": {},
   "source": [
    "# Analysis of NIH data using pandas\n",
    "\n",
    "The purpose of this project is to demonstrate basic data analysis skills with pandas using a funding dataset from the National Institutes of Health. The following skills are demonstrated in this project:\n",
    "\n",
    "-Dataframe filtering based on certain criteria\n",
    "\n",
    "-Dataframe parsing into smaller datasets\n",
    "\n",
    "-Dataset merging\n",
    "\n",
    "-String management with regular expressions\n",
    "\n",
    "-Dataset analysis for specific insights (e.g. institutes awarding the most funding, Principal Investigators with the most grants, etc)\n",
    "\n",
    "-Data visualization\n",
    "\n",
    "-Statistical analysis"
   ]
  },
  {
   "cell_type": "code",
   "execution_count": 1,
   "id": "fb6d136e-5174-4b1a-811e-d945a21f3a8f",
   "metadata": {},
   "outputs": [],
   "source": [
    "#import necessary libraries\n",
    "import pandas as pd\n",
    "import numpy as np\n",
    "import seaborn as sns\n",
    "import statsmodels.api as sm"
   ]
  },
  {
   "cell_type": "code",
   "execution_count": 2,
   "id": "a1cec6c0-8e0c-43f1-a32d-22150fbc1e6b",
   "metadata": {},
   "outputs": [],
   "source": [
    "pd.set_option('display.max_columns', None)"
   ]
  },
  {
   "cell_type": "markdown",
   "id": "d6f36018",
   "metadata": {},
   "source": [
    "# Dataframe Filtering and Parsing"
   ]
  },
  {
   "cell_type": "code",
   "execution_count": 3,
   "id": "e62f86f8-aff2-4357-847e-d374e9017998",
   "metadata": {},
   "outputs": [],
   "source": [
    "#load data; display first 5 rows\n",
    "data = pd.read_excel('nih-Worldwide2015.xls', 'Sheet1')"
   ]
  },
  {
   "cell_type": "code",
   "execution_count": 4,
   "id": "64c5db78-09ce-4cdc-bc76-e120db074278",
   "metadata": {},
   "outputs": [
    {
     "data": {
      "text/plain": [
       "Organization Name                       object\n",
       "Project Number                          object\n",
       "Funding Mechanism                       object\n",
       "NIH Reference                            int64\n",
       "PI Name                                 object\n",
       "Project Title                           object\n",
       "DEPT NAME                               object\n",
       "NIH Dept Combining Name                 object\n",
       "NIH MC Combining Name                   object\n",
       "Direct Cost                            float64\n",
       "Indirect Cost                          float64\n",
       "Funding                                  int64\n",
       "Congressional District                 float64\n",
       "City                                    object\n",
       "State or Country Name                   object\n",
       "Zip Code                                object\n",
       "Attributed to Medical School            object\n",
       "Medical School Location                 object\n",
       "Institution Type                        object\n",
       "Award Notice Date               datetime64[ns]\n",
       "FOA                                     object\n",
       "dtype: object"
      ]
     },
     "execution_count": 4,
     "metadata": {},
     "output_type": "execute_result"
    }
   ],
   "source": [
    "#show data types for each column\n",
    "data.dtypes"
   ]
  },
  {
   "cell_type": "code",
   "execution_count": 5,
   "id": "78ef3701-10ea-4038-aea1-62a6507bec94",
   "metadata": {},
   "outputs": [],
   "source": [
    "#filter data for projects attributed to a medical school\n",
    "med_school = data[data['Attributed to Medical School'] == 'Y']"
   ]
  },
  {
   "cell_type": "code",
   "execution_count": 6,
   "id": "691f8c26-19c3-445a-b6d4-be71bd374086",
   "metadata": {},
   "outputs": [],
   "source": [
    "#parse data in Project Number column into two separate strings and save as new columns: code (the activity code) and icode (the institution code)\n",
    "data['code'] = data['Project Number'].str[1:4] #2nd, 3rd, and 4th characters\n",
    "data['icode'] = data['Project Number'].str[4:6] #5th and 6th characters\n"
   ]
  },
  {
   "cell_type": "code",
   "execution_count": 7,
   "id": "a5f38f2e-7af6-4aa7-a779-5e3c739d1f86",
   "metadata": {},
   "outputs": [],
   "source": [
    "#use regular expression to filter for only rows where the activity code starts with a letter\n",
    "data2 = data[data['code'].str.match(r'^[A-Za-z]')]"
   ]
  },
  {
   "cell_type": "markdown",
   "id": "3dfdbe6a",
   "metadata": {},
   "source": [
    "# Simple Dataset Analysis"
   ]
  },
  {
   "cell_type": "code",
   "execution_count": 8,
   "id": "a6044eb9-b280-441a-8878-b45ee6d64938",
   "metadata": {},
   "outputs": [
    {
     "data": {
      "text/plain": [
       "icode\n",
       "CA    3067378774\n",
       "AI    2816658845\n",
       "GM    2305153448\n",
       "HL    2275682842\n",
       "DK    1594835858\n",
       "NS    1339911506\n",
       "MH    1161677004\n",
       "AG     999538398\n",
       "HD     971449006\n",
       "DA     832033498\n",
       "Name: Funding, dtype: int64"
      ]
     },
     "execution_count": 8,
     "metadata": {},
     "output_type": "execute_result"
    }
   ],
   "source": [
    "#identify NIH institutes that gave the most funding\n",
    "\n",
    "#group by 'icode' column, isolate funding column, sum the funding for each group, and display the 10 largest\n",
    "top_funders = data2.groupby('icode')['Funding'].sum().nlargest(10)\n",
    "top_funders"
   ]
  },
  {
   "cell_type": "code",
   "execution_count": 9,
   "id": "eb1ffd2c-f973-4458-b544-9bc0432e403e",
   "metadata": {},
   "outputs": [
    {
     "data": {
      "text/plain": [
       "PI Name\n",
       "WOODLAND, DAVID L.       42\n",
       "STEWART, DAVID J.        30\n",
       "KAPLAN, DAVID L          12\n",
       "CALIGIURI, MICHAEL A.    10\n",
       "WANG, TIMOTHY CRAGIN     10\n",
       "SHARPLESS, NORMAN E      10\n",
       "SNYDER, MICHAEL P         9\n",
       "REZNIKOFF, WILLIAM S.     9\n",
       "ADAMSON, PETER C.         9\n",
       "BRADY, KATHLEEN T.        9\n",
       "Name: count, dtype: int64"
      ]
     },
     "execution_count": 9,
     "metadata": {},
     "output_type": "execute_result"
    }
   ],
   "source": [
    "#identify Principal Investigators with the most grants\n",
    "top_PIs = data2['PI Name'].value_counts().head(10)\n",
    "top_PIs"
   ]
  },
  {
   "cell_type": "code",
   "execution_count": 10,
   "id": "da1c64ba-fab3-4171-86cc-c35bb191590f",
   "metadata": {},
   "outputs": [
    {
     "data": {
      "text/plain": [
       "Organization Name\n",
       "UNIVERSITY OF WASHINGTON                  58\n",
       "EMORY UNIVERSITY                          54\n",
       "WASHINGTON UNIVERSITY                     53\n",
       "UNIVERSITY OF CALIFORNIA LOS ANGELES      53\n",
       "UNIVERSITY OF MICHIGAN                    53\n",
       "UNIVERSITY OF PITTSBURGH AT PITTSBURGH    53\n",
       "UNIV OF NORTH CAROLINA CHAPEL HILL        52\n",
       "UNIVERSITY OF PENNSYLVANIA                52\n",
       "JOHNS HOPKINS UNIVERSITY                  52\n",
       "DUKE UNIVERSITY                           52\n",
       "Name: code, dtype: int64"
      ]
     },
     "execution_count": 10,
     "metadata": {},
     "output_type": "execute_result"
    }
   ],
   "source": [
    "#identify top 10 organizations with the most diverse funding using the activity code column as the funding type\n",
    "\n",
    "#group by 'Organization Name', isolate the 'code' column, count the number of unique codes, sort in descending order, and then display the top 10\n",
    "top_orgs = data2.groupby('Organization Name')['code'].nunique().sort_values(ascending = False).head(10)\n",
    "top_orgs"
   ]
  },
  {
   "cell_type": "code",
   "execution_count": 11,
   "id": "87be3f92-97ed-4b4d-9b8e-dc64de142a6d",
   "metadata": {},
   "outputs": [
    {
     "data": {
      "text/html": [
       "<div>\n",
       "<style scoped>\n",
       "    .dataframe tbody tr th:only-of-type {\n",
       "        vertical-align: middle;\n",
       "    }\n",
       "\n",
       "    .dataframe tbody tr th {\n",
       "        vertical-align: top;\n",
       "    }\n",
       "\n",
       "    .dataframe thead th {\n",
       "        text-align: right;\n",
       "    }\n",
       "</style>\n",
       "<table border=\"1\" class=\"dataframe\">\n",
       "  <thead>\n",
       "    <tr style=\"text-align: right;\">\n",
       "      <th></th>\n",
       "      <th>State or Country Name</th>\n",
       "      <th>Total_State_Funding</th>\n",
       "      <th>Average_State_Funding</th>\n",
       "    </tr>\n",
       "  </thead>\n",
       "  <tbody>\n",
       "    <tr>\n",
       "      <th>0</th>\n",
       "      <td>ALABAMA</td>\n",
       "      <td>258212374</td>\n",
       "      <td>456205.607774</td>\n",
       "    </tr>\n",
       "    <tr>\n",
       "      <th>1</th>\n",
       "      <td>ALASKA</td>\n",
       "      <td>13530884</td>\n",
       "      <td>751715.777778</td>\n",
       "    </tr>\n",
       "    <tr>\n",
       "      <th>2</th>\n",
       "      <td>ARGENTINA</td>\n",
       "      <td>832633</td>\n",
       "      <td>118947.571429</td>\n",
       "    </tr>\n",
       "    <tr>\n",
       "      <th>3</th>\n",
       "      <td>ARIZONA</td>\n",
       "      <td>150372947</td>\n",
       "      <td>382628.363868</td>\n",
       "    </tr>\n",
       "    <tr>\n",
       "      <th>4</th>\n",
       "      <td>ARKANSAS</td>\n",
       "      <td>40322657</td>\n",
       "      <td>443106.120879</td>\n",
       "    </tr>\n",
       "    <tr>\n",
       "      <th>...</th>\n",
       "      <td>...</td>\n",
       "      <td>...</td>\n",
       "      <td>...</td>\n",
       "    </tr>\n",
       "    <tr>\n",
       "      <th>93</th>\n",
       "      <td>WEST VIRGINIA</td>\n",
       "      <td>20974749</td>\n",
       "      <td>355504.220339</td>\n",
       "    </tr>\n",
       "    <tr>\n",
       "      <th>94</th>\n",
       "      <td>WISCONSIN</td>\n",
       "      <td>400636646</td>\n",
       "      <td>442692.426519</td>\n",
       "    </tr>\n",
       "    <tr>\n",
       "      <th>95</th>\n",
       "      <td>WYOMING</td>\n",
       "      <td>10459943</td>\n",
       "      <td>615290.764706</td>\n",
       "    </tr>\n",
       "    <tr>\n",
       "      <th>96</th>\n",
       "      <td>ZAMBIA</td>\n",
       "      <td>1760769</td>\n",
       "      <td>880384.500000</td>\n",
       "    </tr>\n",
       "    <tr>\n",
       "      <th>97</th>\n",
       "      <td>ZIMBABWE</td>\n",
       "      <td>2871434</td>\n",
       "      <td>410204.857143</td>\n",
       "    </tr>\n",
       "  </tbody>\n",
       "</table>\n",
       "<p>98 rows × 3 columns</p>\n",
       "</div>"
      ],
      "text/plain": [
       "   State or Country Name  Total_State_Funding  Average_State_Funding\n",
       "0                ALABAMA            258212374          456205.607774\n",
       "1                 ALASKA             13530884          751715.777778\n",
       "2              ARGENTINA               832633          118947.571429\n",
       "3                ARIZONA            150372947          382628.363868\n",
       "4               ARKANSAS             40322657          443106.120879\n",
       "..                   ...                  ...                    ...\n",
       "93         WEST VIRGINIA             20974749          355504.220339\n",
       "94             WISCONSIN            400636646          442692.426519\n",
       "95               WYOMING             10459943          615290.764706\n",
       "96                ZAMBIA              1760769          880384.500000\n",
       "97              ZIMBABWE              2871434          410204.857143\n",
       "\n",
       "[98 rows x 3 columns]"
      ]
     },
     "execution_count": 11,
     "metadata": {},
     "output_type": "execute_result"
    }
   ],
   "source": [
    "#Calculate total and average funding for each state or country\n",
    "\n",
    "#group by the 'State or Country Name', isolate the 'Funding' column, and use agg function to calculate the sum and mean of the funding column for each group\n",
    "funding_data = data2.groupby('State or Country Name')['Funding'].agg(Total_State_Funding = 'sum', Average_State_Funding = 'mean').reset_index()\n",
    "funding_data"
   ]
  },
  {
   "cell_type": "markdown",
   "id": "f09f0960",
   "metadata": {},
   "source": [
    "# Combine Datasets"
   ]
  },
  {
   "cell_type": "code",
   "execution_count": 12,
   "id": "1f5f31ae-7155-4221-9768-eec5c567ded7",
   "metadata": {},
   "outputs": [],
   "source": [
    "#filter dataframe to include only US states\n",
    "#import additional dataset to add column with state acronyms\n",
    "\n",
    "#import additional dataset\n",
    "US_data = pd.read_csv('us-states.csv',header = None)\n",
    "\n",
    "#since the full state name column in 'us-states.csv' has ',US' afer each state, split the string on the comma and select the first half (state name)\n",
    "US_data[0] = US_data[0].str.upper()\n",
    "US_data[0] = US_data[0].str.split(',').str[0]\n",
    "\n",
    "#rename columns so that we can join with the other dataset on the 'State of Country Name' column\n",
    "US_data.columns = ['State or Country Name','State_Acronym']\n",
    "\n",
    "#perform inner join to combine datasets and isolate rows with US funding\n",
    "States_data = pd.merge(data2,US_data, on='State or Country Name', how='inner')"
   ]
  },
  {
   "cell_type": "markdown",
   "id": "707670a7",
   "metadata": {},
   "source": [
    "# Visualize Data"
   ]
  },
  {
   "cell_type": "code",
   "execution_count": 13,
   "id": "aceb6248-3e3f-4024-8a48-7efb1f34e6d9",
   "metadata": {},
   "outputs": [],
   "source": [
    "#merge state data with funding data to determine total funding for each state\n",
    "States_data = States_data.merge(funding_data, on = 'State or Country Name', how = 'left')\n",
    "States_data = States_data.sort_values('State_Acronym')"
   ]
  },
  {
   "cell_type": "code",
   "execution_count": 14,
   "id": "96b46bfb-247a-4b81-a382-1b26c62598d3",
   "metadata": {},
   "outputs": [
    {
     "data": {
      "text/plain": [
       "<Axes: xlabel='State_Acronym', ylabel='Total_State_Funding'>"
      ]
     },
     "execution_count": 14,
     "metadata": {},
     "output_type": "execute_result"
    },
    {
     "data": {
      "image/png": "[encoded data removed]",
      "text/plain": [
       "<Figure size 2000x600 with 1 Axes>"
      ]
     },
     "metadata": {},
     "output_type": "display_data"
    }
   ],
   "source": [
    "#barplot of total funding for each state\n",
    "sns.set(rc={'figure.figsize': (20, 6)})\n",
    "sns.barplot(data=States_data, x='State_Acronym',y='Total_State_Funding')"
   ]
  },
  {
   "cell_type": "markdown",
   "id": "d2c94533",
   "metadata": {},
   "source": [
    "# Statistical Analysis\n",
    "Investigate the relationship between amount of funding for each project and number of papers published"
   ]
  },
  {
   "cell_type": "code",
   "execution_count": 15,
   "id": "6adcdb89-5819-4c16-a6e8-890f6e157916",
   "metadata": {},
   "outputs": [],
   "source": [
    "#load additional dataset containing published papers for each project number \n",
    "papers = pd.read_csv('papers.csv')\n",
    "\n",
    "#merge with original dataset to acquire the funding for each project number\n",
    "papers = pd.merge(papers, data[['Project Number','Funding']], on = 'Project Number', how = 'left')"
   ]
  },
  {
   "cell_type": "code",
   "execution_count": 16,
   "id": "b8c81ea8-cce8-44a3-9d36-3189b1c3b386",
   "metadata": {},
   "outputs": [
    {
     "data": {
      "text/plain": [
       "<Axes: xlabel='Funding', ylabel='papersNum'>"
      ]
     },
     "execution_count": 16,
     "metadata": {},
     "output_type": "execute_result"
    },
    {
     "data": {
      "image/png": "[encoded data removed]",
      "text/plain": [
       "<Figure size 2000x1000 with 1 Axes>"
      ]
     },
     "metadata": {},
     "output_type": "display_data"
    }
   ],
   "source": [
    "#scatter plot of funding amount and number of papers\n",
    "sns.set(rc={'figure.figsize': (20,10)})\n",
    "sns.scatterplot(data=papers,x='Funding',y='papersNum')"
   ]
  },
  {
   "cell_type": "code",
   "execution_count": 17,
   "id": "c3727020-1342-4e8c-8444-b75ea501b4d9",
   "metadata": {},
   "outputs": [
    {
     "data": {
      "text/html": [
       "<table class=\"simpletable\">\n",
       "<caption>OLS Regression Results</caption>\n",
       "<tr>\n",
       "  <th>Dep. Variable:</th>        <td>papersNum</td>    <th>  R-squared:         </th> <td>   0.007</td> \n",
       "</tr>\n",
       "<tr>\n",
       "  <th>Model:</th>                   <td>OLS</td>       <th>  Adj. R-squared:    </th> <td>   0.006</td> \n",
       "</tr>\n",
       "<tr>\n",
       "  <th>Method:</th>             <td>Least Squares</td>  <th>  F-statistic:       </th> <td>   16.45</td> \n",
       "</tr>\n",
       "<tr>\n",
       "  <th>Date:</th>             <td>Tue, 05 Aug 2025</td> <th>  Prob (F-statistic):</th> <td>7.54e-08</td> \n",
       "</tr>\n",
       "<tr>\n",
       "  <th>Time:</th>                 <td>19:18:22</td>     <th>  Log-Likelihood:    </th> <td> -13145.</td> \n",
       "</tr>\n",
       "<tr>\n",
       "  <th>No. Observations:</th>      <td>  5000</td>      <th>  AIC:               </th> <td>2.630e+04</td>\n",
       "</tr>\n",
       "<tr>\n",
       "  <th>Df Residuals:</th>          <td>  4997</td>      <th>  BIC:               </th> <td>2.631e+04</td>\n",
       "</tr>\n",
       "<tr>\n",
       "  <th>Df Model:</th>              <td>     2</td>      <th>                     </th>     <td> </td>    \n",
       "</tr>\n",
       "<tr>\n",
       "  <th>Covariance Type:</th>      <td>nonrobust</td>    <th>                     </th>     <td> </td>    \n",
       "</tr>\n",
       "</table>\n",
       "<table class=\"simpletable\">\n",
       "<tr>\n",
       "     <td></td>        <th>coef</th>     <th>std err</th>      <th>t</th>      <th>P>|t|</th>  <th>[0.025</th>    <th>0.975]</th>  \n",
       "</tr>\n",
       "<tr>\n",
       "  <th>const</th>   <td>    1.0150</td> <td>    0.109</td> <td>    9.303</td> <td> 0.000</td> <td>    0.801</td> <td>    1.229</td>\n",
       "</tr>\n",
       "<tr>\n",
       "  <th>year</th>    <td>    0.0357</td> <td>    0.007</td> <td>    5.034</td> <td> 0.000</td> <td>    0.022</td> <td>    0.050</td>\n",
       "</tr>\n",
       "<tr>\n",
       "  <th>Funding</th> <td> 5.728e-07</td> <td> 2.14e-07</td> <td>    2.675</td> <td> 0.007</td> <td> 1.53e-07</td> <td> 9.93e-07</td>\n",
       "</tr>\n",
       "</table>\n",
       "<table class=\"simpletable\">\n",
       "<tr>\n",
       "  <th>Omnibus:</th>       <td>4918.989</td> <th>  Durbin-Watson:     </th>  <td>   1.984</td> \n",
       "</tr>\n",
       "<tr>\n",
       "  <th>Prob(Omnibus):</th>  <td> 0.000</td>  <th>  Jarque-Bera (JB):  </th> <td>255684.936</td>\n",
       "</tr>\n",
       "<tr>\n",
       "  <th>Skew:</th>           <td> 4.828</td>  <th>  Prob(JB):          </th>  <td>    0.00</td> \n",
       "</tr>\n",
       "<tr>\n",
       "  <th>Kurtosis:</th>       <td>36.676</td>  <th>  Cond. No.          </th>  <td>1.08e+06</td> \n",
       "</tr>\n",
       "</table><br/><br/>Notes:<br/>[1] Standard Errors assume that the covariance matrix of the errors is correctly specified.<br/>[2] The condition number is large, 1.08e+06. This might indicate that there are<br/>strong multicollinearity or other numerical problems."
      ],
      "text/latex": [
       "\\begin{center}\n",
       "\\begin{tabular}{lclc}\n",
       "\\toprule\n",
       "\\textbf{Dep. Variable:}    &    papersNum     & \\textbf{  R-squared:         } &     0.007   \\\\\n",
       "\\textbf{Model:}            &       OLS        & \\textbf{  Adj. R-squared:    } &     0.006   \\\\\n",
       "\\textbf{Method:}           &  Least Squares   & \\textbf{  F-statistic:       } &     16.45   \\\\\n",
       "\\textbf{Date:}             & Tue, 05 Aug 2025 & \\textbf{  Prob (F-statistic):} &  7.54e-08   \\\\\n",
       "\\textbf{Time:}             &     19:18:22     & \\textbf{  Log-Likelihood:    } &   -13145.   \\\\\n",
       "\\textbf{No. Observations:} &        5000      & \\textbf{  AIC:               } & 2.630e+04   \\\\\n",
       "\\textbf{Df Residuals:}     &        4997      & \\textbf{  BIC:               } & 2.631e+04   \\\\\n",
       "\\textbf{Df Model:}         &           2      & \\textbf{                     } &             \\\\\n",
       "\\textbf{Covariance Type:}  &    nonrobust     & \\textbf{                     } &             \\\\\n",
       "\\bottomrule\n",
       "\\end{tabular}\n",
       "\\begin{tabular}{lcccccc}\n",
       "                 & \\textbf{coef} & \\textbf{std err} & \\textbf{t} & \\textbf{P$> |$t$|$} & \\textbf{[0.025} & \\textbf{0.975]}  \\\\\n",
       "\\midrule\n",
       "\\textbf{const}   &       1.0150  &        0.109     &     9.303  &         0.000        &        0.801    &        1.229     \\\\\n",
       "\\textbf{year}    &       0.0357  &        0.007     &     5.034  &         0.000        &        0.022    &        0.050     \\\\\n",
       "\\textbf{Funding} &    5.728e-07  &     2.14e-07     &     2.675  &         0.007        &     1.53e-07    &     9.93e-07     \\\\\n",
       "\\bottomrule\n",
       "\\end{tabular}\n",
       "\\begin{tabular}{lclc}\n",
       "\\textbf{Omnibus:}       & 4918.989 & \\textbf{  Durbin-Watson:     } &     1.984   \\\\\n",
       "\\textbf{Prob(Omnibus):} &   0.000  & \\textbf{  Jarque-Bera (JB):  } & 255684.936  \\\\\n",
       "\\textbf{Skew:}          &   4.828  & \\textbf{  Prob(JB):          } &      0.00   \\\\\n",
       "\\textbf{Kurtosis:}      &  36.676  & \\textbf{  Cond. No.          } &  1.08e+06   \\\\\n",
       "\\bottomrule\n",
       "\\end{tabular}\n",
       "%\\caption{OLS Regression Results}\n",
       "\\end{center}\n",
       "\n",
       "Notes: \\newline\n",
       " [1] Standard Errors assume that the covariance matrix of the errors is correctly specified. \\newline\n",
       " [2] The condition number is large, 1.08e+06. This might indicate that there are \\newline\n",
       " strong multicollinearity or other numerical problems."
      ],
      "text/plain": [
       "<class 'statsmodels.iolib.summary.Summary'>\n",
       "\"\"\"\n",
       "                            OLS Regression Results                            \n",
       "==============================================================================\n",
       "Dep. Variable:              papersNum   R-squared:                       0.007\n",
       "Model:                            OLS   Adj. R-squared:                  0.006\n",
       "Method:                 Least Squares   F-statistic:                     16.45\n",
       "Date:                Tue, 05 Aug 2025   Prob (F-statistic):           7.54e-08\n",
       "Time:                        19:18:22   Log-Likelihood:                -13145.\n",
       "No. Observations:                5000   AIC:                         2.630e+04\n",
       "Df Residuals:                    4997   BIC:                         2.631e+04\n",
       "Df Model:                           2                                         \n",
       "Covariance Type:            nonrobust                                         \n",
       "==============================================================================\n",
       "                 coef    std err          t      P>|t|      [0.025      0.975]\n",
       "------------------------------------------------------------------------------\n",
       "const          1.0150      0.109      9.303      0.000       0.801       1.229\n",
       "year           0.0357      0.007      5.034      0.000       0.022       0.050\n",
       "Funding     5.728e-07   2.14e-07      2.675      0.007    1.53e-07    9.93e-07\n",
       "==============================================================================\n",
       "Omnibus:                     4918.989   Durbin-Watson:                   1.984\n",
       "Prob(Omnibus):                  0.000   Jarque-Bera (JB):           255684.936\n",
       "Skew:                           4.828   Prob(JB):                         0.00\n",
       "Kurtosis:                      36.676   Cond. No.                     1.08e+06\n",
       "==============================================================================\n",
       "\n",
       "Notes:\n",
       "[1] Standard Errors assume that the covariance matrix of the errors is correctly specified.\n",
       "[2] The condition number is large, 1.08e+06. This might indicate that there are\n",
       "strong multicollinearity or other numerical problems.\n",
       "\"\"\""
      ]
     },
     "execution_count": 17,
     "metadata": {},
     "output_type": "execute_result"
    }
   ],
   "source": [
    "#Evaluate relationship between funding amount and number of papers published with a linear regression model\n",
    "stats_data = papers[['year','Funding','papersNum']]\n",
    "stats_data = sm.add_constant(stats_data)\n",
    "lsmod = sm.OLS(stats_data['papersNum'], stats_data[['const','year','Funding']]).fit()\n",
    "lsmod.summary()"
   ]
  },
  {
   "cell_type": "markdown",
   "id": "8c7b1d7d",
   "metadata": {},
   "source": [
    "Given that the p-value is less than 0.05, this model suggests that there is a statistically significant relationship between the amount of funding a project receives and the number of papers published associated with that project. "
   ]
  },
  {
   "cell_type": "markdown",
   "id": "ccdbb4ff",
   "metadata": {},
   "source": []
  }
 ],
 "metadata": {
  "kernelspec": {
   "display_name": "bmi6318",
   "language": "python",
   "name": "python3"
  },
  "language_info": {
   "codemirror_mode": {
    "name": "ipython",
    "version": 3
   },
   "file_extension": ".py",
   "mimetype": "text/x-python",
   "name": "python",
   "nbconvert_exporter": "python",
   "pygments_lexer": "ipython3",
   "version": "3.10.13"
  }
 },
 "nbformat": 4,
 "nbformat_minor": 5
}
